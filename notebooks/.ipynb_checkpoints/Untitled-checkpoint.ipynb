{
 "cells": [
  {
   "cell_type": "code",
   "execution_count": 1,
   "metadata": {},
   "outputs": [],
   "source": [
    "import pandas as pd"
   ]
  },
  {
   "cell_type": "code",
   "execution_count": 2,
   "metadata": {},
   "outputs": [],
   "source": [
    "df = pd.read_csv(\"./data/Unicorn_Companies.csv\")"
   ]
  },
  {
   "cell_type": "code",
   "execution_count": 3,
   "metadata": {},
   "outputs": [
    {
     "data": {
      "text/html": [
       "<div>\n",
       "<style scoped>\n",
       "    .dataframe tbody tr th:only-of-type {\n",
       "        vertical-align: middle;\n",
       "    }\n",
       "\n",
       "    .dataframe tbody tr th {\n",
       "        vertical-align: top;\n",
       "    }\n",
       "\n",
       "    .dataframe thead th {\n",
       "        text-align: right;\n",
       "    }\n",
       "</style>\n",
       "<table border=\"1\" class=\"dataframe\">\n",
       "  <thead>\n",
       "    <tr style=\"text-align: right;\">\n",
       "      <th></th>\n",
       "      <th>Company</th>\n",
       "      <th>Valuation ($B)</th>\n",
       "      <th>Date Joined</th>\n",
       "      <th>Country</th>\n",
       "      <th>City</th>\n",
       "      <th>Industry</th>\n",
       "      <th>Select Inverstors</th>\n",
       "      <th>Founded Year</th>\n",
       "      <th>Total Raised</th>\n",
       "      <th>Financial Stage</th>\n",
       "      <th>Investors Count</th>\n",
       "      <th>Deal Terms</th>\n",
       "      <th>Portfolio Exits</th>\n",
       "    </tr>\n",
       "  </thead>\n",
       "  <tbody>\n",
       "    <tr>\n",
       "      <td>0</td>\n",
       "      <td>Bytedance</td>\n",
       "      <td>$140</td>\n",
       "      <td>4/7/2017</td>\n",
       "      <td>China</td>\n",
       "      <td>Beijing</td>\n",
       "      <td>Artificial intelligence</td>\n",
       "      <td>Sequoia Capital China, SIG Asia Investments, S...</td>\n",
       "      <td>2012</td>\n",
       "      <td>$7.44B</td>\n",
       "      <td>IPO</td>\n",
       "      <td>28</td>\n",
       "      <td>8</td>\n",
       "      <td>5</td>\n",
       "    </tr>\n",
       "    <tr>\n",
       "      <td>1</td>\n",
       "      <td>SpaceX</td>\n",
       "      <td>$100.3</td>\n",
       "      <td>12/1/2012</td>\n",
       "      <td>United States</td>\n",
       "      <td>Hawthorne</td>\n",
       "      <td>Other</td>\n",
       "      <td>Founders Fund, Draper Fisher Jurvetson, Rothen...</td>\n",
       "      <td>2002</td>\n",
       "      <td>$6.874B</td>\n",
       "      <td>None</td>\n",
       "      <td>29</td>\n",
       "      <td>12</td>\n",
       "      <td>None</td>\n",
       "    </tr>\n",
       "    <tr>\n",
       "      <td>2</td>\n",
       "      <td>Stripe</td>\n",
       "      <td>$95</td>\n",
       "      <td>1/23/2014</td>\n",
       "      <td>United States</td>\n",
       "      <td>San Francisco</td>\n",
       "      <td>Fintech</td>\n",
       "      <td>Khosla Ventures, LowercaseCapital, capitalG</td>\n",
       "      <td>2010</td>\n",
       "      <td>$2.901B</td>\n",
       "      <td>Asset</td>\n",
       "      <td>39</td>\n",
       "      <td>12</td>\n",
       "      <td>1</td>\n",
       "    </tr>\n",
       "    <tr>\n",
       "      <td>3</td>\n",
       "      <td>Klarna</td>\n",
       "      <td>$45.6</td>\n",
       "      <td>12/12/2011</td>\n",
       "      <td>Sweden</td>\n",
       "      <td>Stockholm</td>\n",
       "      <td>Fintech</td>\n",
       "      <td>Institutional Venture Partners, Sequoia Capita...</td>\n",
       "      <td>2005</td>\n",
       "      <td>$3.472B</td>\n",
       "      <td>Acquired</td>\n",
       "      <td>56</td>\n",
       "      <td>13</td>\n",
       "      <td>1</td>\n",
       "    </tr>\n",
       "    <tr>\n",
       "      <td>4</td>\n",
       "      <td>Epic Games</td>\n",
       "      <td>$42</td>\n",
       "      <td>10/26/2018</td>\n",
       "      <td>United States</td>\n",
       "      <td>Cary</td>\n",
       "      <td>Other</td>\n",
       "      <td>Tencent Holdings, KKR, Smash Ventures</td>\n",
       "      <td>1991</td>\n",
       "      <td>$4.377B</td>\n",
       "      <td>Acquired</td>\n",
       "      <td>25</td>\n",
       "      <td>5</td>\n",
       "      <td>2</td>\n",
       "    </tr>\n",
       "    <tr>\n",
       "      <td>...</td>\n",
       "      <td>...</td>\n",
       "      <td>...</td>\n",
       "      <td>...</td>\n",
       "      <td>...</td>\n",
       "      <td>...</td>\n",
       "      <td>...</td>\n",
       "      <td>...</td>\n",
       "      <td>...</td>\n",
       "      <td>...</td>\n",
       "      <td>...</td>\n",
       "      <td>...</td>\n",
       "      <td>...</td>\n",
       "      <td>...</td>\n",
       "    </tr>\n",
       "    <tr>\n",
       "      <td>1032</td>\n",
       "      <td>Timescale</td>\n",
       "      <td>$1</td>\n",
       "      <td>2/22/2022</td>\n",
       "      <td>United States</td>\n",
       "      <td>New York</td>\n",
       "      <td>Internet software &amp; services</td>\n",
       "      <td>New Enterprise Associates, Benchmark, Two Sigm...</td>\n",
       "      <td>2015</td>\n",
       "      <td>$181.06M</td>\n",
       "      <td>None</td>\n",
       "      <td>7</td>\n",
       "      <td>2</td>\n",
       "      <td>None</td>\n",
       "    </tr>\n",
       "    <tr>\n",
       "      <td>1033</td>\n",
       "      <td>Scalapay</td>\n",
       "      <td>$1</td>\n",
       "      <td>2/23/2022</td>\n",
       "      <td>Italy</td>\n",
       "      <td>Milan</td>\n",
       "      <td>Fintech</td>\n",
       "      <td>Fasanara Capital, Tiger Global Management, Bal...</td>\n",
       "      <td>2019</td>\n",
       "      <td>$700M</td>\n",
       "      <td>None</td>\n",
       "      <td>10</td>\n",
       "      <td>2</td>\n",
       "      <td>None</td>\n",
       "    </tr>\n",
       "    <tr>\n",
       "      <td>1034</td>\n",
       "      <td>Omada Health</td>\n",
       "      <td>$1</td>\n",
       "      <td>2/23/2022</td>\n",
       "      <td>United States</td>\n",
       "      <td>San Francisco</td>\n",
       "      <td>Health</td>\n",
       "      <td>U.S. Venture Partners, dRx Capital, Andreessen...</td>\n",
       "      <td>2011</td>\n",
       "      <td>$449.72M</td>\n",
       "      <td>None</td>\n",
       "      <td>30</td>\n",
       "      <td>6</td>\n",
       "      <td>None</td>\n",
       "    </tr>\n",
       "    <tr>\n",
       "      <td>1035</td>\n",
       "      <td>BlueVoyant</td>\n",
       "      <td>$1</td>\n",
       "      <td>2/23/2022</td>\n",
       "      <td>United States</td>\n",
       "      <td>New York</td>\n",
       "      <td>Cybersecurity</td>\n",
       "      <td>8VC, Liberty Strategic Capital, Eden Global Pa...</td>\n",
       "      <td>2017</td>\n",
       "      <td>$525.5M</td>\n",
       "      <td>None</td>\n",
       "      <td>6</td>\n",
       "      <td>2</td>\n",
       "      <td>None</td>\n",
       "    </tr>\n",
       "    <tr>\n",
       "      <td>1036</td>\n",
       "      <td>Veev</td>\n",
       "      <td>$1</td>\n",
       "      <td>2/24/2022</td>\n",
       "      <td>United States</td>\n",
       "      <td>San Mateo</td>\n",
       "      <td>Internet software &amp; services</td>\n",
       "      <td>Zeev Ventures, Bond, Fifth Wall Ventures</td>\n",
       "      <td>2008</td>\n",
       "      <td>$604.5M</td>\n",
       "      <td>None</td>\n",
       "      <td>11</td>\n",
       "      <td>1</td>\n",
       "      <td>None</td>\n",
       "    </tr>\n",
       "  </tbody>\n",
       "</table>\n",
       "<p>1037 rows × 13 columns</p>\n",
       "</div>"
      ],
      "text/plain": [
       "           Company Valuation ($B) Date Joined        Country           City  \\\n",
       "0        Bytedance           $140    4/7/2017          China        Beijing   \n",
       "1           SpaceX         $100.3   12/1/2012  United States      Hawthorne   \n",
       "2           Stripe            $95   1/23/2014  United States  San Francisco   \n",
       "3           Klarna          $45.6  12/12/2011         Sweden      Stockholm   \n",
       "4       Epic Games            $42  10/26/2018  United States           Cary   \n",
       "...            ...            ...         ...            ...            ...   \n",
       "1032     Timescale             $1   2/22/2022  United States       New York   \n",
       "1033      Scalapay             $1   2/23/2022          Italy          Milan   \n",
       "1034  Omada Health             $1   2/23/2022  United States  San Francisco   \n",
       "1035    BlueVoyant             $1   2/23/2022  United States       New York   \n",
       "1036          Veev             $1   2/24/2022  United States      San Mateo   \n",
       "\n",
       "                          Industry  \\\n",
       "0          Artificial intelligence   \n",
       "1                            Other   \n",
       "2                          Fintech   \n",
       "3                          Fintech   \n",
       "4                            Other   \n",
       "...                            ...   \n",
       "1032  Internet software & services   \n",
       "1033                       Fintech   \n",
       "1034                        Health   \n",
       "1035                 Cybersecurity   \n",
       "1036  Internet software & services   \n",
       "\n",
       "                                      Select Inverstors Founded Year  \\\n",
       "0     Sequoia Capital China, SIG Asia Investments, S...         2012   \n",
       "1     Founders Fund, Draper Fisher Jurvetson, Rothen...         2002   \n",
       "2           Khosla Ventures, LowercaseCapital, capitalG         2010   \n",
       "3     Institutional Venture Partners, Sequoia Capita...         2005   \n",
       "4                 Tencent Holdings, KKR, Smash Ventures         1991   \n",
       "...                                                 ...          ...   \n",
       "1032  New Enterprise Associates, Benchmark, Two Sigm...         2015   \n",
       "1033  Fasanara Capital, Tiger Global Management, Bal...         2019   \n",
       "1034  U.S. Venture Partners, dRx Capital, Andreessen...         2011   \n",
       "1035  8VC, Liberty Strategic Capital, Eden Global Pa...         2017   \n",
       "1036           Zeev Ventures, Bond, Fifth Wall Ventures         2008   \n",
       "\n",
       "     Total Raised Financial Stage Investors Count Deal Terms Portfolio Exits  \n",
       "0          $7.44B             IPO              28          8               5  \n",
       "1         $6.874B            None              29         12            None  \n",
       "2         $2.901B           Asset              39         12               1  \n",
       "3         $3.472B        Acquired              56         13               1  \n",
       "4         $4.377B        Acquired              25          5               2  \n",
       "...           ...             ...             ...        ...             ...  \n",
       "1032     $181.06M            None               7          2            None  \n",
       "1033        $700M            None              10          2            None  \n",
       "1034     $449.72M            None              30          6            None  \n",
       "1035      $525.5M            None               6          2            None  \n",
       "1036      $604.5M            None              11          1            None  \n",
       "\n",
       "[1037 rows x 13 columns]"
      ]
     },
     "execution_count": 3,
     "metadata": {},
     "output_type": "execute_result"
    }
   ],
   "source": [
    "df"
   ]
  },
  {
   "cell_type": "code",
   "execution_count": 4,
   "metadata": {},
   "outputs": [],
   "source": [
    "df =df.drop('Portfolio Exits', axis=1)"
   ]
  },
  {
   "cell_type": "code",
   "execution_count": 5,
   "metadata": {},
   "outputs": [],
   "source": [
    "df = df.drop('Deal Terms', axis=1)"
   ]
  },
  {
   "cell_type": "code",
   "execution_count": 6,
   "metadata": {},
   "outputs": [],
   "source": [
    "df = df.drop('Financial Stage', axis=1)"
   ]
  },
  {
   "cell_type": "code",
   "execution_count": 7,
   "metadata": {},
   "outputs": [
    {
     "data": {
      "text/plain": [
       "Company              object\n",
       "Valuation ($B)       object\n",
       "Date Joined          object\n",
       "Country              object\n",
       "City                 object\n",
       "Industry             object\n",
       "Select Inverstors    object\n",
       "Founded Year         object\n",
       "Total Raised         object\n",
       "Investors Count      object\n",
       "dtype: object"
      ]
     },
     "execution_count": 7,
     "metadata": {},
     "output_type": "execute_result"
    }
   ],
   "source": [
    "df.dtypes"
   ]
  },
  {
   "cell_type": "code",
   "execution_count": 8,
   "metadata": {},
   "outputs": [
    {
     "data": {
      "text/plain": [
       "Country\n",
       "Argentina                 1\n",
       "Australia                 6\n",
       "Austria                   2\n",
       "Bahamas                   1\n",
       "Belgium                   3\n",
       "Bermuda                   1\n",
       "Brazil                   16\n",
       "Canada                   19\n",
       "Chile                     2\n",
       "China                   168\n",
       "Colombia                  2\n",
       "Croatia                   1\n",
       "Czech Republic            1\n",
       "Denmark                   2\n",
       "Estonia                   2\n",
       "Finland                   3\n",
       "France                   24\n",
       "Germany                  24\n",
       "Hong Kong                 6\n",
       "India                    63\n",
       "Indonesia                 7\n",
       "Ireland                   5\n",
       "Israel                   20\n",
       "Italy                     1\n",
       "Japan                     6\n",
       "Lithuania                 1\n",
       "Luxembourg                1\n",
       "Malaysia                  1\n",
       "Mexico                    6\n",
       "Netherlands               6\n",
       "Nigeria                   1\n",
       "Norway                    4\n",
       "Philippines               2\n",
       "Senegal                   1\n",
       "Singapore                12\n",
       "South Africa              2\n",
       "South Korea              12\n",
       "Spain                     3\n",
       "Sweden                    6\n",
       "Switzerland               5\n",
       "Thailand                  2\n",
       "Turkey                    3\n",
       "United Arab Emirates      3\n",
       "United Kingdom           42\n",
       "United States           536\n",
       "Vietnam                   2\n",
       "dtype: int64"
      ]
     },
     "execution_count": 8,
     "metadata": {},
     "output_type": "execute_result"
    }
   ],
   "source": [
    "df.groupby(['Country']).size()"
   ]
  },
  {
   "cell_type": "code",
   "execution_count": 41,
   "metadata": {},
   "outputs": [],
   "source": [
    "df_counts = df.groupby(['Country']).size().reset_index(name='UnicornCount')\n",
    "df_counts.to_csv(\"./data/NumberOfUnicornCompaniesByCountry.csv\")"
   ]
  },
  {
   "cell_type": "code",
   "execution_count": 44,
   "metadata": {},
   "outputs": [
    {
     "data": {
      "text/plain": [
       "Country         object\n",
       "UnicornCount     int64\n",
       "dtype: object"
      ]
     },
     "execution_count": 44,
     "metadata": {},
     "output_type": "execute_result"
    }
   ],
   "source": [
    "df_counts.dtypes"
   ]
  },
  {
   "cell_type": "code",
   "execution_count": 21,
   "metadata": {},
   "outputs": [],
   "source": [
    "df.to_csv(\"./data/Unicorn_Companies_clean.csv\")"
   ]
  },
  {
   "cell_type": "code",
   "execution_count": 19,
   "metadata": {},
   "outputs": [],
   "source": [
    "df['Date Joined'] = pd.DatetimeIndex(df['Date Joined']).year"
   ]
  },
  {
   "cell_type": "code",
   "execution_count": 29,
   "metadata": {},
   "outputs": [
    {
     "name": "stderr",
     "output_type": "stream",
     "text": [
      "C:\\Users\\micha\\Anaconda3\\lib\\site-packages\\ipykernel_launcher.py:3: FutureWarning: The signature of `Series.to_csv` was aligned to that of `DataFrame.to_csv`, and argument 'header' will change its default value from False to True: please pass an explicit value to suppress this warning.\n",
      "  This is separate from the ipykernel package so we can avoid doing imports until\n"
     ]
    }
   ],
   "source": [
    "df_ranks = df.groupby(['Industry', 'Date Joined'])\n",
    "df_ranks.size()\n",
    "df_ranks.size().to_csv(\"./data/CountByIndustryYear.csv\")"
   ]
  },
  {
   "cell_type": "code",
   "execution_count": 31,
   "metadata": {},
   "outputs": [
    {
     "data": {
      "text/plain": [
       "Industry                                                         Date Joined\n",
       "500 Global, Rakuten Ventures, Golden Gate Ventures               2021           1\n",
       "Andreessen Horowitz, DST Global, IDG Capital                     2021           1\n",
       "Artificial Intelligence                                          2021           6\n",
       "                                                                 2022           1\n",
       "Artificial intelligence                                          2012           1\n",
       "                                                                               ..\n",
       "Travel                                                           2019           3\n",
       "                                                                 2021           3\n",
       "                                                                 2022           1\n",
       "Vertex Ventures SE Asia, Global Founders Capital, Visa Ventures  2021           1\n",
       "Vision Plus Capital, GSR Ventures, ZhenFund                      2021           1\n",
       "Length: 142, dtype: int64"
      ]
     },
     "execution_count": 31,
     "metadata": {},
     "output_type": "execute_result"
    }
   ],
   "source": [
    "df_ranks.size()"
   ]
  }
 ],
 "metadata": {
  "kernelspec": {
   "display_name": "Python 3",
   "language": "python",
   "name": "python3"
  },
  "language_info": {
   "codemirror_mode": {
    "name": "ipython",
    "version": 3
   },
   "file_extension": ".py",
   "mimetype": "text/x-python",
   "name": "python",
   "nbconvert_exporter": "python",
   "pygments_lexer": "ipython3",
   "version": "3.7.4"
  }
 },
 "nbformat": 4,
 "nbformat_minor": 2
}
